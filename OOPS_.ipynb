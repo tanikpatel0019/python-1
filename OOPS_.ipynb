{
  "nbformat": 4,
  "nbformat_minor": 0,
  "metadata": {
    "colab": {
      "provenance": []
    },
    "kernelspec": {
      "name": "python3",
      "display_name": "Python 3"
    },
    "language_info": {
      "name": "python"
    }
  },
  "cells": [
    {
      "cell_type": "markdown",
      "source": [
        "1. What is Object-Oriented Programming (OOP)?\n",
        "- OOP is about creating software that models real-world entities as objects with properties and behaviors, enabling structured, reusable, and maintainable code.\n",
        "\n",
        "2. What is a class in OOP?\n",
        "- A class is like a blueprint and objects are the actual instances made from it.\n",
        "\n",
        "3. What is an object in OOP?\n",
        "- An object is a real, usable entity created from a class, containing data (attributes) and behaviors (methods).\n",
        "\n",
        "4. What is the difference between abstraction and encapsulation?\n",
        "- 1. Abstraction - Hides the implementation details and shows only the essential features of an object.\n",
        "    - Purpose: Focus on what an object does, not how it does it.\n",
        "  2. Encapsulation - Bundling of data (variables) and methods (functions) into a single unit (class). It also restricts direct access to some components to ensure controlled interaction.  \n",
        "    - Purpose: Focus on data protection and controlled access.\n",
        "\n",
        "5. What are dunder methods in Python?\n",
        "- Dunder methods are special methods in Python that let you define how objects behave with operators, built-in functions, and language features.\n",
        "\n",
        "6. Explain the concept of inheritance in OOPH?\n",
        "- Inheritance in OOP lets one class acquire the attributes and behaviors of another class, enabling reusability, extensibility, and better code organization.\n",
        "\n",
        "7. What is polymorphism in OOP?\n",
        "- It allows the same method/operator to behave differently depending on the object it acts on. Achieved through method overriding, operator overloading, and interfaces/abstract classes.\n",
        "\n",
        "8. How is encapsulation achieved in Python?\n",
        "- Encapsulation in Python is achieved by:\n",
        "Using underscores (_, __) for attribute visibility.\n",
        "Providing getter/setter methods to control access.\n",
        "This ensures data hiding and prevents accidental modification.\n",
        "\n",
        "9. What is a constructor in Python?\n",
        "- In Python, a constructor is a special method used to initialize objects when a class is instantiated.\n",
        "The constructor method is: __init__\n",
        "It is automatically called when a new object is created.\n",
        "It is mainly used to set initial values for object attributes.\n",
        "\n",
        "10. What are class and static methods in Python?\n",
        "- 1. Class Methods  \n",
        "  - Defined using the @classmethod decorator.\n",
        "  - The first parameter is always cls (represents the class itself, not the object).\n",
        "  - Can access and modify class-level variables, but not instance-specific data.\n",
        "  - Called using the class name or an object.\n",
        "  2. Static Methods\n",
        "  - Defined using the @staticmethod decorator.\n",
        "  - Do not take self or cls as the first parameter.\n",
        "  - Behave like normal functions but live inside the class namespace.\n",
        "  - Used when a method doesn’t need access to class or instance data, but logically belongs to the class.\n",
        "\n",
        "11. What is method overloading in Python?\n",
        "- Method Overloading means having multiple methods with the same name but different parameters. If you define multiple methods with the same name in a class, the last definition overwrites the previous ones.\n",
        "\n",
        "12. What is method overriding in OOP?\n",
        "- ethod overriding happens when a child class (subclass) provides its own implementation of a method that is already defined in its parent class (superclass).\n",
        "\n",
        "13. What is a property decorator in Python?\n",
        "- In Python, the @property decorator is used to make a method in a class behave like an attribute.\n",
        "It allows you to control access to instance variables while still using a simple dot notation (like accessing a variable).\n",
        "This is a way to achieve encapsulation — you can define getter, setter, and deleter methods for an attribute without changing how it’s accessed.\n",
        "\n",
        "14. Why is polymorphism important in OOP?\n",
        "- Polymorphism is important in OOP because it:\n",
        "  - Promotes code reusability\n",
        "  - Makes programs more flexible and extensible\n",
        "  - Ensures maintainability and cleaner design\n",
        "  - Supports runtime behavior changes\n",
        "\n",
        "15. What is an abstract class in Python?\n",
        "- An abstract class in Python is a class that serves as a template. It defines abstract methods that must be implemented in child classes, ensuring consistency and enforcing rules in OOP design.\n",
        "\n",
        "16. What are the advantages of OOP?\n",
        "- The main advantages of OOP are:\n",
        "Modularity, Reusability, Encapsulation, Abstraction, Polymorphism, Maintainability, Scalability, Productivity, and Real-world Modeling.\n",
        "\n",
        "17. What is the difference between a class variable and an instance variable?\n",
        "- 1. Class Variable\n",
        "  - Belongs to the class itself.\n",
        "  - Shared by all objects of the class.\n",
        "  - Defined inside the class but outside instance methods.\n",
        "  - Changing it using the class name affects all instances.\n",
        "- 2. Instance Variable\n",
        "  - Belongs to a specific object (instance).\n",
        "  - Each object has its own copy.\n",
        "  - Defined inside methods (commonly inside __init__) using self.\n",
        "  - Changing it affects only that object.\n",
        "\n",
        "18. What is multiple inheritance in Python?\n",
        "- Multiple inheritance in Python lets a class inherit from more than one parent class. It is powerful but must be used carefully because of method resolution conflicts.\n",
        "\n",
        "19. Explain the purpose of ‘’__str__’ and ‘__repr__’ ‘ methods in Python?\n",
        "- __str__\n",
        "  - To return a readable, user-friendly string representation of the object.\n",
        "- __repr__\n",
        "  - To return an unambiguous, developer-oriented string representation of the object.  \n",
        "\n",
        "20. What is the significance of the ‘super()’ function in Python?\n",
        "- super() lets child classes call parent class methods.\n",
        "Useful for reusing code and initializing parent attributes.\n",
        "Works seamlessly with multiple inheritance using MRO.\n",
        "\n",
        "21. What is the significance of the __del__ method in Python?\n",
        "- __del__ = destructor method, runs when an object is destroyed.\n",
        "Mainly used for cleaning up resources.\n",
        "But in practice, context managers are safer than relying on __del__.\n",
        "\n",
        "22. What is the difference between @staticmethod and @classmethod in Python?\n",
        "- 1. @staticmethod\n",
        "  - Does not take self or cls as the first argument.\n",
        "  - Behaves like a regular function, just happens to be inside a class.\n",
        "  - Cannot access or modify class state or instance state.\n",
        "  - Used for utility/helper functions.\n",
        "  2. @classmethod\n",
        "  - Takes cls (the class itself) as the first argument.\n",
        "  - Can access and modify class variables (but not instance variables).\n",
        "  - Used for factory methods or operations affecting the whole class.\n",
        "\n",
        "23. How does polymorphism work in Python with inheritance?\n",
        "- Polymorphism with inheritance in Python means child classes can override parent methods, and Python dynamically decides which method to call at runtime, depending on the object’s class.  \n",
        "\n",
        "24. What is method chaining in Python OOP?\n",
        "- Method chaining is an OOP technique where you call multiple methods on the same object in a single line, one after another.\n",
        "Each method returns the object itself (usually self), so the next method can be called on it.\n",
        "It makes code more concise and readable.\n",
        "\n",
        "25. What is the purpose of the __call__ method in Python?\n",
        "- In Python, the __call__ method allows an object of a class to be called like a function.\n",
        "  - If a class defines __call__, then its instances become callable objects.\n",
        "  - This means you can use obj() syntax on the instance, just like calling a function."
      ],
      "metadata": {
        "id": "UqRNHVEhTRv2"
      }
    },
    {
      "cell_type": "code",
      "execution_count": 1,
      "metadata": {
        "id": "Fh9J7D7mTM-P",
        "colab": {
          "base_uri": "https://localhost:8080/"
        },
        "outputId": "0e42e442-3917-48c7-cf12-eb9dbf17d660"
      },
      "outputs": [
        {
          "output_type": "stream",
          "name": "stdout",
          "text": [
            "This animal makes a sound.\n",
            "Bark!\n"
          ]
        }
      ],
      "source": [
        "#1.Create a parent class Animal with a method speak() that prints a generic message. Create a child class Dog that overrides the speak() method to print \"Bark!\".\n",
        "\n",
        "class Animal:\n",
        "    def speak(self):\n",
        "        print(\"This animal makes a sound.\")\n",
        "class Dog(Animal):\n",
        "    def speak(self):\n",
        "        print(\"Bark!\")\n",
        "a = Animal()\n",
        "d = Dog()\n",
        "\n",
        "a.speak()\n",
        "d.speak()\n"
      ]
    },
    {
      "cell_type": "code",
      "source": [
        "#2.Write a program to create an abstract class Shape with a method area(). Derive classes Circle and Rectangle from it and implement the area() method in both.\n",
        "from abc import ABC, abstractmethod\n",
        "import math\n",
        "\n",
        "class Shape(ABC):\n",
        "\n",
        "    @abstractmethod\n",
        "    def area(self):\n",
        "        pass\n",
        "class Circle(Shape):\n",
        "    def __init__(self, radius):\n",
        "        self.radius = radius\n",
        "\n",
        "    def area(self):\n",
        "        return math.pi * (self.radius ** 2)\n",
        "class Rectangle(Shape):\n",
        "    def __init__(self, length, width):\n",
        "        self.length = length\n",
        "        self.width = width\n",
        "    def area(self):\n",
        "        return self.length * self.width\n",
        "c = Circle(5)\n",
        "r = Rectangle(4, 6)\n",
        "\n",
        "print(\"Circle Area:\", c.area())\n",
        "print(\"Rectangle Area:\", r.area())"
      ],
      "metadata": {
        "colab": {
          "base_uri": "https://localhost:8080/"
        },
        "id": "eEUFDPHy7REQ",
        "outputId": "aea65506-84db-428c-9d48-69dcaf786c0d"
      },
      "execution_count": 3,
      "outputs": [
        {
          "output_type": "stream",
          "name": "stdout",
          "text": [
            "Circle Area: 78.53981633974483\n",
            "Rectangle Area: 24\n"
          ]
        }
      ]
    },
    {
      "cell_type": "code",
      "source": [
        "#3. Implement a multi-level inheritance scenario where a class Vehicle has an attribute type. Derive a class Car and further derive a class ElectricCar that adds a battery attribute\n",
        "\n",
        "class Vehicle:\n",
        "    def __init__(self, vehicle_type):\n",
        "        self.type = vehicle_type\n",
        "    def show_type(self):\n",
        "        print(f\"Vehicle type: {self.type}\")\n",
        "class Car(Vehicle):\n",
        "    def __init__(self, vehicle_type, brand):\n",
        "        super().__init__(vehicle_type)\n",
        "        self.brand = brand\n",
        "    def show_car(self):\n",
        "        print(f\"Car brand: {self.brand}\")\n",
        "class ElectricCar(Car):\n",
        "    def __init__(self, vehicle_type, brand, battery):\n",
        "        super().__init__(vehicle_type, brand)\n",
        "        self.battery = battery\n",
        "    def show_details(self):\n",
        "        self.show_type()\n",
        "        self.show_car()\n",
        "        print(f\"Battery capacity: {self.battery} kWh\")\n",
        "e_car = ElectricCar(\"Four-wheeler\", \"Tesla\", 85)\n",
        "e_car.show_details()\n"
      ],
      "metadata": {
        "colab": {
          "base_uri": "https://localhost:8080/"
        },
        "id": "QWcH9PJ_79mM",
        "outputId": "59b2cd01-556e-49c1-f551-c6c759c91ea1"
      },
      "execution_count": 5,
      "outputs": [
        {
          "output_type": "stream",
          "name": "stdout",
          "text": [
            "Vehicle type: Four-wheeler\n",
            "Car brand: Tesla\n",
            "Battery capacity: 85 kWh\n"
          ]
        }
      ]
    },
    {
      "cell_type": "code",
      "source": [
        "#4. Demonstrate polymorphism by creating a base class Bird with a method fly(). Create two derived classes Sparrow and Penguin that override the fly() method.\n",
        "\n",
        "class Bird:\n",
        "    def fly(self):\n",
        "        print(\"Some birds can fly...\")\n",
        "class Sparrow(Bird):\n",
        "    def fly(self):\n",
        "        print(\"Sparrow flies high in the sky!\")\n",
        "class Penguin(Bird):\n",
        "    def fly(self):\n",
        "        print(\"Penguins cannot fly, they swim instead!\")\n",
        "birds = [Sparrow(), Penguin(), Bird()]\n",
        "\n",
        "for b in birds:\n",
        "    b.fly()\n"
      ],
      "metadata": {
        "colab": {
          "base_uri": "https://localhost:8080/"
        },
        "id": "SDBez_Fv8qX9",
        "outputId": "37757c35-d9f7-40b3-8436-7d051dadc3ba"
      },
      "execution_count": 6,
      "outputs": [
        {
          "output_type": "stream",
          "name": "stdout",
          "text": [
            "Sparrow flies high in the sky!\n",
            "Penguins cannot fly, they swim instead!\n",
            "Some birds can fly...\n"
          ]
        }
      ]
    },
    {
      "cell_type": "code",
      "source": [
        "#5. Write a program to demonstrate encapsulation by creating a class BankAccount with private attributes balance and methods to deposit, withdraw, and check balance.\n",
        "\n",
        "class BankAccount:\n",
        "    def __init__(self, initial_balance=0):\n",
        "        self.__balance = initial_balance\n",
        "    def deposit(self, amount):\n",
        "        if amount > 0:\n",
        "            self.__balance += amount\n",
        "            print(f\"Deposited: {amount}\")\n",
        "        else:\n",
        "            print(\"Deposit amount must be positive.\")\n",
        "    def withdraw(self, amount):\n",
        "        if 0 < amount <= self.__balance:\n",
        "            self.__balance -= amount\n",
        "            print(f\"Withdrew: {amount}\")\n",
        "        else:\n",
        "            print(\"Insufficient balance or invalid amount.\")\n",
        "    def get_balance(self):\n",
        "        return self.__balance\n",
        "account = BankAccount(100)\n",
        "\n",
        "account.deposit(50)\n",
        "account.withdraw(30)\n",
        "print(\"Current Balance:\", account.get_balance())\n",
        "\n",
        "print(account._BankAccount__balance)\n"
      ],
      "metadata": {
        "colab": {
          "base_uri": "https://localhost:8080/"
        },
        "id": "jpV8W9p89G-c",
        "outputId": "da88ba49-22ee-452d-a787-e256c69d217d"
      },
      "execution_count": 7,
      "outputs": [
        {
          "output_type": "stream",
          "name": "stdout",
          "text": [
            "Deposited: 50\n",
            "Withdrew: 30\n",
            "Current Balance: 120\n",
            "120\n"
          ]
        }
      ]
    },
    {
      "cell_type": "code",
      "source": [
        "#6. Demonstrate runtime polymorphism using a method play() in a base class Instrument. Derive classes Guitar and Piano that implement their own version of play().\n",
        "\n",
        "class Instrument:\n",
        "    def play(self):\n",
        "        print(\"Playing an instrument...\")\n",
        "class Guitar(Instrument):\n",
        "    def play(self):\n",
        "        print(\"Strumming the guitar 🎸\")\n",
        "class Piano(Instrument):\n",
        "    def play(self):\n",
        "        print(\"Playing the piano 🎹\")\n",
        "instruments = [Guitar(), Piano(), Instrument()]\n",
        "\n",
        "for inst in instruments:\n",
        "    inst.play()\n"
      ],
      "metadata": {
        "colab": {
          "base_uri": "https://localhost:8080/"
        },
        "id": "AUL04Hv09uay",
        "outputId": "1daed663-2708-4aa7-f60d-2d91a7e71523"
      },
      "execution_count": 8,
      "outputs": [
        {
          "output_type": "stream",
          "name": "stdout",
          "text": [
            "Strumming the guitar 🎸\n",
            "Playing the piano 🎹\n",
            "Playing an instrument...\n"
          ]
        }
      ]
    },
    {
      "cell_type": "code",
      "source": [
        "#7. Create a class MathOperations with a class method add_numbers() to add two numbers and a static method subtract_numbers() to subtract two numbers.\n",
        "\n",
        "class MathOperations:\n",
        "    @classmethod\n",
        "    def add_numbers(cls, a, b):\n",
        "        return a + b\n",
        "\n",
        "    @staticmethod\n",
        "    def subtract_numbers(a, b):\n",
        "        return a - b\n",
        "\n",
        "print(\"Addition:\", MathOperations.add_numbers(10, 5))\n",
        "print(\"Subtraction:\", MathOperations.subtract_numbers(10, 5))\n"
      ],
      "metadata": {
        "colab": {
          "base_uri": "https://localhost:8080/"
        },
        "id": "pwq489uw-GUc",
        "outputId": "d9ee57a8-23c3-4bf4-fa3d-666b704ca006"
      },
      "execution_count": 9,
      "outputs": [
        {
          "output_type": "stream",
          "name": "stdout",
          "text": [
            "Addition: 15\n",
            "Subtraction: 5\n"
          ]
        }
      ]
    },
    {
      "cell_type": "code",
      "source": [
        "#8.  Implement a class Person with a class method to count the total number of persons created.\n",
        "\n",
        "class Person:\n",
        "    count = 0\n",
        "    def __init__(self, name):\n",
        "        self.name = name\n",
        "        Person.count += 1\n",
        "    @classmethod\n",
        "    def get_count(cls):\n",
        "        return cls.count\n",
        "\n",
        "p1 = Person(\"Alice\")\n",
        "p2 = Person(\"Bob\")\n",
        "p3 = Person(\"Charlie\")\n",
        "\n",
        "print(\"Total Persons created:\", Person.get_count())\n"
      ],
      "metadata": {
        "colab": {
          "base_uri": "https://localhost:8080/"
        },
        "id": "hxp1Jt9j-eBP",
        "outputId": "d54b5fea-204a-480f-d30d-90a06a4c55fd"
      },
      "execution_count": 10,
      "outputs": [
        {
          "output_type": "stream",
          "name": "stdout",
          "text": [
            "Total Persons created: 3\n"
          ]
        }
      ]
    },
    {
      "cell_type": "code",
      "source": [
        "#9. Write a class Fraction with attributes numerator and denominator. Override the str method to display the fraction as \"numerator/denominator\".\n",
        "\n",
        "class Fraction:\n",
        "    def __init__(self, numerator, denominator):\n",
        "        self.numerator = numerator\n",
        "        self.denominator = denominator\n",
        "\n",
        "    def __str__(self):\n",
        "        return f\"{self.numerator}/{self.denominator}\"\n",
        "\n",
        "f1 = Fraction(3, 4)\n",
        "f2 = Fraction(7, 2)\n",
        "\n",
        "print(f1)\n",
        "print(f2)\n"
      ],
      "metadata": {
        "colab": {
          "base_uri": "https://localhost:8080/"
        },
        "id": "rxYM6ve4-28f",
        "outputId": "472ed3fb-5c1a-4c25-bbf5-e9153c31c693"
      },
      "execution_count": 11,
      "outputs": [
        {
          "output_type": "stream",
          "name": "stdout",
          "text": [
            "3/4\n",
            "7/2\n"
          ]
        }
      ]
    },
    {
      "cell_type": "code",
      "source": [
        "#10. Demonstrate operator overloading by creating a class Vector and overriding the add method to add two vectors.\n",
        "\n",
        "class Vector:\n",
        "    def __init__(self, x, y):\n",
        "        self.x = x\n",
        "        self.y = y\n",
        "    def __add__(self, other):\n",
        "        return Vector(self.x + other.x, self.y + other.y)\n",
        "    def __str__(self):\n",
        "        return f\"({self.x}, {self.y})\"\n",
        "v1 = Vector(2, 3)\n",
        "v2 = Vector(4, 5)\n",
        "v3 = v1 + v2\n",
        "print(\"v1 + v2 =\", v3)\n"
      ],
      "metadata": {
        "colab": {
          "base_uri": "https://localhost:8080/"
        },
        "id": "Oh_cnDco_LWD",
        "outputId": "64909fe8-8d17-4fea-e193-f61ef25ede01"
      },
      "execution_count": 12,
      "outputs": [
        {
          "output_type": "stream",
          "name": "stdout",
          "text": [
            "v1 + v2 = (6, 8)\n"
          ]
        }
      ]
    },
    {
      "cell_type": "code",
      "source": [
        "#11.Create a class Person with attributes name and age. Add a method greet() that prints \"Hello, my name is {name} and I am {age} years old.\"\n",
        "\n",
        "class Person:\n",
        "    def __init__(self, name, age):\n",
        "        self.name = name\n",
        "        self.age = age\n",
        "\n",
        "    def greet(self):\n",
        "        print(f\"Hello, my name is {self.name} and I am {self.age} years old.\")\n",
        "\n",
        "p1 = Person(\"Alice\", 25)\n",
        "p2 = Person(\"Bob\", 30)\n",
        "\n",
        "p1.greet()\n",
        "p2.greet()\n"
      ],
      "metadata": {
        "colab": {
          "base_uri": "https://localhost:8080/"
        },
        "id": "FFFpxPi__g_x",
        "outputId": "3b2b4747-8a69-43bf-f7e5-fe3e48012fbc"
      },
      "execution_count": 13,
      "outputs": [
        {
          "output_type": "stream",
          "name": "stdout",
          "text": [
            "Hello, my name is Alice and I am 25 years old.\n",
            "Hello, my name is Bob and I am 30 years old.\n"
          ]
        }
      ]
    },
    {
      "cell_type": "code",
      "source": [
        "#12. Implement a class Student with attributes name and grades. Create a method average_grade() to compute the average of the grades.\n",
        "\n",
        "class Student:\n",
        "    def __init__(self, name, grades):\n",
        "        self.name = name\n",
        "        self.grades = grades\n",
        "    def average_grade(self):\n",
        "        if not self.grades:\n",
        "            return 0\n",
        "        return sum(self.grades) / len(self.grades)\n",
        "\n",
        "s1 = Student(\"Alice\", [85, 90, 78])\n",
        "s2 = Student(\"Bob\", [70, 75, 80, 90])\n",
        "\n",
        "print(f\"{s1.name}'s average grade: {s1.average_grade()}\")\n",
        "print(f\"{s2.name}'s average grade: {s2.average_grade()}\")\n"
      ],
      "metadata": {
        "colab": {
          "base_uri": "https://localhost:8080/"
        },
        "id": "7SYyKV1-_wNV",
        "outputId": "2546d6ae-9d5c-433f-d50e-3dbc932b78bd"
      },
      "execution_count": 14,
      "outputs": [
        {
          "output_type": "stream",
          "name": "stdout",
          "text": [
            "Alice's average grade: 84.33333333333333\n",
            "Bob's average grade: 78.75\n"
          ]
        }
      ]
    },
    {
      "cell_type": "code",
      "source": [
        "#13.Create a class Rectangle with methods set_dimensions() to set the dimensions and area() to calculate the area.\n",
        "\n",
        "class Rectangle:\n",
        "    def __init__(self):\n",
        "        self.length = 0\n",
        "        self.width = 0\n",
        "    def set_dimensions(self, length, width):\n",
        "        self.length = length\n",
        "        self.width = width\n",
        "    def area(self):\n",
        "        return self.length * self.width\n",
        "rect = Rectangle()\n",
        "rect.set_dimensions(5, 3)\n",
        "\n",
        "print(\"Area of rectangle:\", rect.area())\n"
      ],
      "metadata": {
        "colab": {
          "base_uri": "https://localhost:8080/"
        },
        "id": "VBiTULgpABMG",
        "outputId": "0d43686e-1fef-4c80-bb93-65d72c2e21a3"
      },
      "execution_count": 15,
      "outputs": [
        {
          "output_type": "stream",
          "name": "stdout",
          "text": [
            "Area of rectangle: 15\n"
          ]
        }
      ]
    },
    {
      "cell_type": "code",
      "source": [
        "#14. Create a class Employee with a method calculate_salary() that computes the salary based on hours worked and hourly rate. Create a derived class Manager that adds a bonus to the salary.\n",
        "\n",
        "class Employee:\n",
        "    def __init__(self, name, hours_worked, hourly_rate):\n",
        "        self.name = name\n",
        "        self.hours_worked = hours_worked\n",
        "        self.hourly_rate = hourly_rate\n",
        "    def calculate_salary(self):\n",
        "        return self.hours_worked * self.hourly_rate\n",
        "class Manager(Employee):\n",
        "    def __init__(self, name, hours_worked, hourly_rate, bonus):\n",
        "        super().__init__(name, hours_worked, hourly_rate)\n",
        "        self.bonus = bonus\n",
        "    def calculate_salary(self):\n",
        "        base_salary = super().calculate_salary()\n",
        "        return base_salary + self.bonus\n",
        "emp = Employee(\"Alice\", 40, 20)\n",
        "mgr = Manager(\"Bob\", 40, 25, 500)\n",
        "\n",
        "print(f\"{emp.name}'s salary: ${emp.calculate_salary()}\")\n",
        "print(f\"{mgr.name}'s salary: ${mgr.calculate_salary()}\")\n"
      ],
      "metadata": {
        "colab": {
          "base_uri": "https://localhost:8080/"
        },
        "id": "mwSvSkeOAQwO",
        "outputId": "6712e423-97c1-4695-bb4f-a3a649e8ac1e"
      },
      "execution_count": 16,
      "outputs": [
        {
          "output_type": "stream",
          "name": "stdout",
          "text": [
            "Alice's salary: $800\n",
            "Bob's salary: $1500\n"
          ]
        }
      ]
    },
    {
      "cell_type": "code",
      "source": [
        "#15. Create a class Product with attributes name, price, and quantity. Implement a method total_price() that calculates the total price of the product.\n",
        "\n",
        "class Product:\n",
        "    def __init__(self, name, price, quantity):\n",
        "        self.name = name\n",
        "        self.price = price\n",
        "        self.quantity = quantity\n",
        "\n",
        "    def total_price(self):\n",
        "        return self.price * self.quantity\n",
        "p1 = Product(\"Laptop\", 800, 2)\n",
        "p2 = Product(\"Mouse\", 25, 4)\n",
        "\n",
        "print(f\"Total price of {p1.name}: ${p1.total_price()}\")\n",
        "print(f\"Total price of {p2.name}: ${p2.total_price()}\")\n"
      ],
      "metadata": {
        "colab": {
          "base_uri": "https://localhost:8080/"
        },
        "id": "BBOgYlRoAn4N",
        "outputId": "9c44a170-173b-4813-c311-e5b9d122a6d8"
      },
      "execution_count": 17,
      "outputs": [
        {
          "output_type": "stream",
          "name": "stdout",
          "text": [
            "Total price of Laptop: $1600\n",
            "Total price of Mouse: $100\n"
          ]
        }
      ]
    },
    {
      "cell_type": "code",
      "source": [
        "#16.  Create a class Animal with an abstract method sound(). Create two derived classes Cow and Sheep that implement the sound() method.\n",
        "\n",
        "from abc import ABC, abstractmethod\n",
        "class Animal(ABC):\n",
        "    @abstractmethod\n",
        "    def sound(self):\n",
        "        pass\n",
        "class Cow(Animal):\n",
        "    def sound(self):\n",
        "        print(\"Moo!\")\n",
        "class Sheep(Animal):\n",
        "    def sound(self):\n",
        "        print(\"Baa!\")\n",
        "animals = [Cow(), Sheep()]\n",
        "for a in animals:\n",
        "    a.sound()\n"
      ],
      "metadata": {
        "colab": {
          "base_uri": "https://localhost:8080/"
        },
        "id": "viWOZqriA3oL",
        "outputId": "a25900bc-54f6-47ae-a249-4467337f0134"
      },
      "execution_count": 18,
      "outputs": [
        {
          "output_type": "stream",
          "name": "stdout",
          "text": [
            "Moo!\n",
            "Baa!\n"
          ]
        }
      ]
    },
    {
      "cell_type": "code",
      "source": [
        "#17. Create a class Book with attributes title, author, and year_published. Add a method get_book_info() that returns a formatted string with the book's details.\n",
        "\n",
        "class Book:\n",
        "    def __init__(self, title, author, year_published):\n",
        "        self.title = title\n",
        "        self.author = author\n",
        "        self.year_published = year_published\n",
        "    def get_book_info(self):\n",
        "        return f\"'{self.title}' by {self.author}, published in {self.year_published}\"\n",
        "book1 = Book(\"1984\", \"George Orwell\", 1949)\n",
        "book2 = Book(\"To Kill a Mockingbird\", \"Harper Lee\", 1960)\n",
        "\n",
        "print(book1.get_book_info())\n",
        "print(book2.get_book_info())\n"
      ],
      "metadata": {
        "colab": {
          "base_uri": "https://localhost:8080/"
        },
        "id": "cL1ZuWAHBSYz",
        "outputId": "a3c552c6-1246-4cc6-d979-90a51aa1f4dc"
      },
      "execution_count": 19,
      "outputs": [
        {
          "output_type": "stream",
          "name": "stdout",
          "text": [
            "'1984' by George Orwell, published in 1949\n",
            "'To Kill a Mockingbird' by Harper Lee, published in 1960\n"
          ]
        }
      ]
    },
    {
      "cell_type": "code",
      "source": [
        "#18.Create a class House with attributes address and price. Create a derived class Mansion that adds an attribute number_of_rooms.\n",
        "\n",
        "class House:\n",
        "    def __init__(self, address, price):\n",
        "        self.address = address\n",
        "        self.price = price\n",
        "    def get_details(self):\n",
        "        return f\"Address: {self.address}, Price: ${self.price}\"\n",
        "class Mansion(House):\n",
        "    def __init__(self, address, price, number_of_rooms):\n",
        "        super().__init__(address, price)\n",
        "        self.number_of_rooms = number_of_rooms\n",
        "    def get_details(self):\n",
        "        base_details = super().get_details()\n",
        "        return f\"{base_details}, Number of rooms: {self.number_of_rooms}\"\n",
        "house1 = House(\"123 Main St\", 250000)\n",
        "mansion1 = Mansion(\"456 Grand Ave\", 2000000, 10)\n",
        "\n",
        "print(house1.get_details())\n",
        "print(mansion1.get_details())\n"
      ],
      "metadata": {
        "colab": {
          "base_uri": "https://localhost:8080/"
        },
        "id": "wa7kceJ9Bjdv",
        "outputId": "77e40806-ff14-4811-929f-8ebbccb4b522"
      },
      "execution_count": 20,
      "outputs": [
        {
          "output_type": "stream",
          "name": "stdout",
          "text": [
            "Address: 123 Main St, Price: $250000\n",
            "Address: 456 Grand Ave, Price: $2000000, Number of rooms: 10\n"
          ]
        }
      ]
    },
    {
      "cell_type": "code",
      "source": [],
      "metadata": {
        "id": "QATP39eFB_XN"
      },
      "execution_count": null,
      "outputs": []
    }
  ]
}