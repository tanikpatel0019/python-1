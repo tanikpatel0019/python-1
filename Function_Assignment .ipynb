{
  "nbformat": 4,
  "nbformat_minor": 0,
  "metadata": {
    "colab": {
      "provenance": [],
      "toc_visible": true
    },
    "kernelspec": {
      "name": "python3",
      "display_name": "Python 3"
    },
    "language_info": {
      "name": "python"
    }
  },
  "cells": [
    {
      "cell_type": "markdown",
      "source": [
        "1.What is the difference between a function and a method in Python?\n",
        " - Function\n",
        "  - A function in Python is a block of code that performs a specific task.\n",
        "  - It is defined using the 'def' keyword and can exist independently."
      ],
      "metadata": {
        "id": "cq-4wPF5aSz6"
      }
    },
    {
      "cell_type": "code",
      "execution_count": 2,
      "metadata": {
        "id": "3B5RjYJUaKW_",
        "colab": {
          "base_uri": "https://localhost:8080/"
        },
        "outputId": "52b02688-ccb0-419e-a777-312b9af63768"
      },
      "outputs": [
        {
          "output_type": "stream",
          "name": "stdout",
          "text": [
            "Hello, Tanik!\n"
          ]
        }
      ],
      "source": [
        "def greet(name):\n",
        "    return f\"Hello, {name}!\"\n",
        "print(greet(\"Tanik\"))"
      ]
    },
    {
      "cell_type": "markdown",
      "source": [
        "- Method\n",
        " - A method is also a function, but it is associated with an object.\n",
        " - Methods are defined inside a class and are called using objects.\n",
        " - The first parameter of a method is usually self, which represents the instance of the class."
      ],
      "metadata": {
        "id": "Fb33CuDN87o0"
      }
    },
    {
      "cell_type": "code",
      "source": [
        "class Dog:\n",
        "    def bark(self):\n",
        "        return \"Woof!\"\n",
        "d = Dog()\n",
        "print(d.bark())"
      ],
      "metadata": {
        "colab": {
          "base_uri": "https://localhost:8080/"
        },
        "id": "DmCSi6oM8j6R",
        "outputId": "784eb020-421c-4284-aba8-0afb06c6ebc1"
      },
      "execution_count": 8,
      "outputs": [
        {
          "output_type": "stream",
          "name": "stdout",
          "text": [
            "Woof!\n"
          ]
        }
      ]
    },
    {
      "cell_type": "markdown",
      "source": [
        "2.Explain the concept of function arguments and parameters in Python."
      ],
      "metadata": {
        "id": "wMcgruDZ-f48"
      }
    },
    {
      "cell_type": "code",
      "source": [
        "# Parameters -> Variables listed in the function definition.\n",
        "def add(a, b):\n",
        "    return a + b"
      ],
      "metadata": {
        "id": "nArlsKYM9pFl"
      },
      "execution_count": 12,
      "outputs": []
    },
    {
      "cell_type": "code",
      "source": [
        "# Arguments -> Actual values you pass to the function when calling it.\n",
        "result = add(9, 7)\n",
        "print(result)"
      ],
      "metadata": {
        "colab": {
          "base_uri": "https://localhost:8080/"
        },
        "id": "dU_2w398_OIz",
        "outputId": "6d3fd81c-f9da-4b6f-af52-4ebc16d0af9f"
      },
      "execution_count": 11,
      "outputs": [
        {
          "output_type": "stream",
          "name": "stdout",
          "text": [
            "16\n"
          ]
        }
      ]
    },
    {
      "cell_type": "code",
      "source": [
        "#3.What are the different ways to define and call a function in Python?\n",
        "#1) Function\n",
        "def say_hello():\n",
        "    print(\"Hello!\")\n",
        "say_hello()"
      ],
      "metadata": {
        "colab": {
          "base_uri": "https://localhost:8080/"
        },
        "id": "7H-36_uvIZH5",
        "outputId": "ab2c2c9d-0dcf-45a9-e17f-0f49c9b12be2"
      },
      "execution_count": 13,
      "outputs": [
        {
          "output_type": "stream",
          "name": "stdout",
          "text": [
            "Hello!\n"
          ]
        }
      ]
    },
    {
      "cell_type": "code",
      "source": [
        "#2) Function with parameters\n",
        "def greet(name):\n",
        "    print(f\"Hello, {name}!\")\n",
        "greet(\"Nik\")"
      ],
      "metadata": {
        "colab": {
          "base_uri": "https://localhost:8080/"
        },
        "id": "b8G7PZviIxHY",
        "outputId": "b5ae56bd-eec3-4467-c99a-7bb528351805"
      },
      "execution_count": 14,
      "outputs": [
        {
          "output_type": "stream",
          "name": "stdout",
          "text": [
            "Hello, Nik!\n"
          ]
        }
      ]
    },
    {
      "cell_type": "code",
      "source": [
        "#3) Lambda\n",
        "square = lambda x: x * x\n",
        "print(square(5))"
      ],
      "metadata": {
        "colab": {
          "base_uri": "https://localhost:8080/"
        },
        "id": "M0OcdJX8JDlZ",
        "outputId": "52f84d04-3aeb-4df9-f4ed-15676d3a359b"
      },
      "execution_count": 15,
      "outputs": [
        {
          "output_type": "stream",
          "name": "stdout",
          "text": [
            "25\n"
          ]
        }
      ]
    },
    {
      "cell_type": "code",
      "source": [
        "#4) Function with return value\n",
        "def add(a, b):\n",
        "    return a + b\n",
        "print(add(5, 3))"
      ],
      "metadata": {
        "colab": {
          "base_uri": "https://localhost:8080/"
        },
        "id": "pL-F6LXPJXFP",
        "outputId": "7dc8ee4c-349c-45fc-e9b8-c9d995018400"
      },
      "execution_count": 16,
      "outputs": [
        {
          "output_type": "stream",
          "name": "stdout",
          "text": [
            "8\n"
          ]
        }
      ]
    },
    {
      "cell_type": "code",
      "source": [
        "#4.What is the purpose of the `return` statement in a Python function?\n",
        "# >> The return statement is used in a function to send a value back to the caller.\n",
        "#>> Without return, a function automatically returns None.\n",
        "#>> It makes the function useful because the result can be stored, printed, or used in further calculations.\n",
        "def add(a, b):\n",
        "    return a + b\n",
        "result = add(1, 2)\n",
        "print(result)"
      ],
      "metadata": {
        "colab": {
          "base_uri": "https://localhost:8080/"
        },
        "id": "b-vPjSQ-JlqH",
        "outputId": "3e8ed8d0-b6da-403a-edb3-25d8a562b4e1"
      },
      "execution_count": 17,
      "outputs": [
        {
          "output_type": "stream",
          "name": "stdout",
          "text": [
            "3\n"
          ]
        }
      ]
    },
    {
      "cell_type": "code",
      "source": [
        "#5.What are iterators in Python and how do they differ from iterables?\n",
        "#>> An iterator is an object that produces items from an iterable one at a time when you call next() on it.\n",
        "#>> It remembers its state (where it left off).\n",
        "#>> It implements both __iter__() and __next__() methods.\n",
        "\n",
        "#>> Iterable = collection you can loop over.\n",
        "#>> Iterator = the mechanism that goes through the iterable step by step.\n",
        "\n",
        "my_list_variable = [1, 2, 3]\n",
        "for item in my_list_variable:\n",
        "    print(item)"
      ],
      "metadata": {
        "colab": {
          "base_uri": "https://localhost:8080/"
        },
        "id": "1nXfzGB9KawC",
        "outputId": "d6457de0-5f0d-4f3b-ab38-8b09589c0a11"
      },
      "execution_count": 50,
      "outputs": [
        {
          "output_type": "stream",
          "name": "stdout",
          "text": [
            "1\n",
            "2\n",
            "3\n"
          ]
        }
      ]
    },
    {
      "cell_type": "code",
      "source": [
        "#6. Explain the concept of generators in Python and how they are defined.\n",
        "#>> A generator is a special type of function in Python that produces values one at a time using the yield keyword.\n",
        "\n",
        "def count_up_to(n):\n",
        "    num = 1\n",
        "    while num <= n:\n",
        "        yield num\n",
        "        num += 1\n",
        "gen = count_up_to(5)\n",
        "print(next(gen))\n",
        "print(next(gen))\n",
        "print(next(gen))"
      ],
      "metadata": {
        "colab": {
          "base_uri": "https://localhost:8080/"
        },
        "id": "bGBhKQJ5MZY1",
        "outputId": "9ad5a5c5-be1a-440f-a8ad-dc0f04c33c18"
      },
      "execution_count": 19,
      "outputs": [
        {
          "output_type": "stream",
          "name": "stdout",
          "text": [
            "1\n",
            "2\n",
            "3\n"
          ]
        }
      ]
    },
    {
      "cell_type": "code",
      "source": [
        "#7.What are the advantages of using generators over regular functions?\n",
        "#>> Clear and simple code\n",
        "#>> Improve performance loop\n",
        "#>> Memory efficiency\n",
        "#>> Lazy evalution"
      ],
      "metadata": {
        "id": "f3YrVe5cNCfW"
      },
      "execution_count": 20,
      "outputs": []
    },
    {
      "cell_type": "code",
      "source": [
        "#8.What is a lambda function in Python and when is it typically used?\n",
        "#>> A lambda function in Python is a small, anonymous function.It is created using the keyword lam bda.\n",
        "\n",
        "#>> Typically use in\n",
        "#>> map\n",
        "#>> fillter\n",
        "#>> sort\n",
        "#>> small calculations\n",
        "\n",
        "add_lambda = lambda a, b: a + b\n",
        "print(add_lambda(5, 3))"
      ],
      "metadata": {
        "colab": {
          "base_uri": "https://localhost:8080/"
        },
        "id": "wxkhw_8MOOy1",
        "outputId": "18843fd5-f933-4d66-adba-7edfc1fe186d"
      },
      "execution_count": 22,
      "outputs": [
        {
          "output_type": "stream",
          "name": "stdout",
          "text": [
            "8\n"
          ]
        }
      ]
    },
    {
      "cell_type": "code",
      "source": [
        "#9.Explain the purpose and usage of the `map()` function in Python.\n",
        "#>> The map() function applies a given function to each item in an iterable and returns a map object. It’s used when you want to transform data without writing an explicit loop.\n",
        "\n"
      ],
      "metadata": {
        "id": "Yq5bNGBMOzTx"
      },
      "execution_count": 26,
      "outputs": []
    },
    {
      "cell_type": "code",
      "source": [
        "#10.What is the difference between `map()`, `reduce()`, and `filter()` functions in Python?\n",
        "#>> 1. map()\n",
        "#>> Applies a function to each element of an iterable.\n",
        "\n",
        "nums = [1, 2, 3, 4]\n",
        "squares = list(map(lambda x: x*x, nums))\n",
        "print(squares)"
      ],
      "metadata": {
        "colab": {
          "base_uri": "https://localhost:8080/"
        },
        "id": "lHSJAcmcQUAj",
        "outputId": "e81c92b5-40c5-4935-d938-d58a81ae53aa"
      },
      "execution_count": 1,
      "outputs": [
        {
          "output_type": "stream",
          "name": "stdout",
          "text": [
            "[1, 4, 9, 16]\n"
          ]
        }
      ]
    },
    {
      "cell_type": "code",
      "source": [
        "#>> 2.filter\n",
        "#>> Filters elements from an iterable based on a condition (function must return True/False).\n",
        "\n",
        "nums = [1, 2, 3, 4, 5, 6]\n",
        "\n",
        "# Keep only even numbers\n",
        "evens = list(filter(lambda x: x % 2 == 0, nums))\n",
        "\n",
        "print(evens)"
      ],
      "metadata": {
        "colab": {
          "base_uri": "https://localhost:8080/"
        },
        "id": "y4tH_eQQmE_x",
        "outputId": "3983b705-11c6-4933-b3da-07f84621b399"
      },
      "execution_count": 2,
      "outputs": [
        {
          "output_type": "stream",
          "name": "stdout",
          "text": [
            "[2, 4, 6]\n"
          ]
        }
      ]
    },
    {
      "cell_type": "code",
      "source": [
        "#>>3. reduce\n",
        "#>> Applies a function cumulatively to elements of an iterable, reducing it to a single value.\n",
        "\n",
        "\n",
        "nums = [1, 2, 3, 4]\n",
        "product = reduce(lambda x, y: x * y, nums)\n",
        "print(product)"
      ],
      "metadata": {
        "colab": {
          "base_uri": "https://localhost:8080/"
        },
        "id": "Xa1Q1keXmZg-",
        "outputId": "fc627028-6588-4256-bd4f-23e4d43c2aff"
      },
      "execution_count": 29,
      "outputs": [
        {
          "output_type": "stream",
          "name": "stdout",
          "text": [
            "24\n"
          ]
        }
      ]
    },
    {
      "cell_type": "markdown",
      "source": [
        "Practical Question"
      ],
      "metadata": {
        "id": "p6g1ri9SnOws"
      }
    },
    {
      "cell_type": "code",
      "source": [
        "#1. Write a Python function that takes a list of numbers as input and returns the sum of all even numbers in the list\n",
        "\n",
        "def sum_even_numbers(numbers):\n",
        "    total = 0\n",
        "    for num in numbers:\n",
        "        if num % 2 == 0:\n",
        "            total += num\n",
        "    return total\n",
        "nums = [1, 2, 3, 4, 5, 6]\n",
        "print(sum_even_numbers(nums))"
      ],
      "metadata": {
        "colab": {
          "base_uri": "https://localhost:8080/"
        },
        "id": "FOXIMD_JmwpT",
        "outputId": "39395a1a-e2bd-4acd-c335-7fb9a6543275"
      },
      "execution_count": 32,
      "outputs": [
        {
          "output_type": "stream",
          "name": "stdout",
          "text": [
            "12\n"
          ]
        }
      ]
    },
    {
      "cell_type": "code",
      "source": [
        "#2. Create a Python function that accepts a string and returns the reverse of that string.\n",
        "\n",
        "def reverse_string(s):\n",
        "    return s[::-1]\n",
        "text = \"Hello\"\n",
        "print(reverse_string(text))"
      ],
      "metadata": {
        "colab": {
          "base_uri": "https://localhost:8080/"
        },
        "id": "AHUvfLDQnzKq",
        "outputId": "e96b6301-5329-4eab-aea9-d3c3ec3aae53"
      },
      "execution_count": 33,
      "outputs": [
        {
          "output_type": "stream",
          "name": "stdout",
          "text": [
            "olleH\n"
          ]
        }
      ]
    },
    {
      "cell_type": "code",
      "source": [
        "#3. Implement a Python function that takes a list of integers and returns a new list containing the squares of each number\n",
        "\n",
        "def square_list(numbers):\n",
        "    squares = []\n",
        "    for num in numbers:\n",
        "        squares.append(num ** 2)\n",
        "    return squares\n",
        "nums = [1, 2, 3, 4, 5]\n",
        "print(square_list(nums))"
      ],
      "metadata": {
        "colab": {
          "base_uri": "https://localhost:8080/"
        },
        "id": "A1ET5tWAoHLk",
        "outputId": "3b034d72-608f-4e8d-fd39-609c80c8cd64"
      },
      "execution_count": 34,
      "outputs": [
        {
          "output_type": "stream",
          "name": "stdout",
          "text": [
            "[1, 4, 9, 16, 25]\n"
          ]
        }
      ]
    },
    {
      "cell_type": "code",
      "source": [
        "#4. Write a Python function that checks if a given number is prime or not from 1 to 200.\n",
        "\n",
        "def is_prime(n):\n",
        "    if n < 2:\n",
        "        return False\n",
        "    for i in range(2, int(n**0.5) + 1):\n",
        "        if n % i == 0:\n",
        "            return False\n",
        "    return True\n",
        "for num in range(1, 201):\n",
        "    if is_prime(num):\n",
        "        print(num, end=\" \")"
      ],
      "metadata": {
        "colab": {
          "base_uri": "https://localhost:8080/"
        },
        "id": "Pz-N7Bkzofgr",
        "outputId": "d86624bc-0e41-47b9-a0ff-1c5e8b940820"
      },
      "execution_count": 35,
      "outputs": [
        {
          "output_type": "stream",
          "name": "stdout",
          "text": [
            "2 3 5 7 11 13 17 19 23 29 31 37 41 43 47 53 59 61 67 71 73 79 83 89 97 101 103 107 109 113 127 131 137 139 149 151 157 163 167 173 179 181 191 193 197 199 "
          ]
        }
      ]
    },
    {
      "cell_type": "code",
      "source": [
        "#5. Create an iterator class in Python that generates the Fibonacci sequence up to a specified number of terms\n",
        "\n",
        "class Fibonacci:\n",
        "    def __init__(self, n_terms):\n",
        "        self.n_terms = n_terms\n",
        "        self.count = 0\n",
        "        self.a, self.b = 0, 1\n",
        "\n",
        "    def __iter__(self):\n",
        "        return self\n",
        "\n",
        "    def __next__(self):\n",
        "        if self.count >= self.n_terms:\n",
        "            raise StopIteration\n",
        "        if self.count == 0:\n",
        "            self.count += 1\n",
        "            return self.a\n",
        "        elif self.count == 1:\n",
        "            self.count += 1\n",
        "            return self.b\n",
        "        else:\n",
        "            self.a, self.b = self.b, self.a + self.b\n",
        "            self.count += 1\n",
        "            return self.b\n",
        "fib = Fibonacci(10)\n",
        "for num in fib:\n",
        "    print(num, end=\" \")"
      ],
      "metadata": {
        "colab": {
          "base_uri": "https://localhost:8080/"
        },
        "id": "3Aw5_w0Bo79Q",
        "outputId": "143eee83-779f-425a-e8c1-a58011e1a1b7"
      },
      "execution_count": 36,
      "outputs": [
        {
          "output_type": "stream",
          "name": "stdout",
          "text": [
            "0 1 1 2 3 5 8 13 21 34 "
          ]
        }
      ]
    },
    {
      "cell_type": "code",
      "source": [
        "#6. Write a generator function in Python that yields the powers of 2 up to a given exponent.\n",
        "\n",
        "def powers_of_two(n):\n",
        "    for i in range(n + 1):\n",
        "        yield 2 ** i\n",
        "for val in powers_of_two(5):\n",
        "    print(val, end=\" \")"
      ],
      "metadata": {
        "colab": {
          "base_uri": "https://localhost:8080/"
        },
        "id": "tEBTrs8ppgdH",
        "outputId": "60d6bdee-7fc3-436b-a314-00b09c541973"
      },
      "execution_count": 37,
      "outputs": [
        {
          "output_type": "stream",
          "name": "stdout",
          "text": [
            "1 2 4 8 16 32 "
          ]
        }
      ]
    },
    {
      "cell_type": "code",
      "source": [
        "#7.Implement a generator function that reads a file line by line and yields each line as a string.\n"
      ],
      "metadata": {
        "id": "j-qVZs_6pvD2"
      },
      "execution_count": 39,
      "outputs": []
    },
    {
      "cell_type": "code",
      "source": [
        "#8. Use a lambda function in Python to sort a list of tuples based on the second element of each tuple.\n",
        "\n",
        "data = [(1, 5), (3, 1), (4, 7), (2, 3)]\n",
        "sorted_data = sorted(data, key=lambda x: x[1])\n",
        "print(sorted_data)"
      ],
      "metadata": {
        "colab": {
          "base_uri": "https://localhost:8080/"
        },
        "id": "df8AnT2HqA_I",
        "outputId": "36499369-4218-4dbd-827b-13734e45b148"
      },
      "execution_count": 41,
      "outputs": [
        {
          "output_type": "stream",
          "name": "stdout",
          "text": [
            "[(3, 1), (2, 3), (1, 5), (4, 7)]\n"
          ]
        }
      ]
    },
    {
      "cell_type": "code",
      "source": [
        "#9. Write a Python program that uses `map()` to convert a list of temperatures from Celsius to Fahrenheit.\n"
      ],
      "metadata": {
        "id": "ZWa_7W6prCnt"
      },
      "execution_count": 43,
      "outputs": []
    },
    {
      "cell_type": "code",
      "source": [
        "#10. Create a Python program that uses `filter()` to remove all the vowels from a given string.\n",
        "\n",
        "def remove_vowels(text):\n",
        "    vowels = \"aeiouAEIOU\"\n",
        "    return \"\".join(filter(lambda ch: ch not in vowels, text))\n",
        "s = \"Python Programming is Awesome\"\n",
        "result = remove_vowels(s)\n",
        "print(\"Original:\", s)\n",
        "print(\"Without vowels:\", result)\n"
      ],
      "metadata": {
        "colab": {
          "base_uri": "https://localhost:8080/"
        },
        "id": "qK6BpI8trcrc",
        "outputId": "0b708783-e9a3-4d12-97df-3c350fbaca60"
      },
      "execution_count": 45,
      "outputs": [
        {
          "output_type": "stream",
          "name": "stdout",
          "text": [
            "Original: Python Programming is Awesome\n",
            "Without vowels: Pythn Prgrmmng s wsm\n"
          ]
        }
      ]
    },
    {
      "cell_type": "code",
      "source": [
        "#11. Imagine an accounting routine used in a book shop. It works on a list with sublists, which look like this\n",
        "\n",
        "orders = [\n",
        "    [34587, \"Learning Python, Mark Lutz\", 4, 40.95],\n",
        "    [98762, \"Programming Python, Mark Lutz\", 3, 56.80],\n",
        "    [77226, \"Head First Python, Paul Barry\", 5, 32.95],\n",
        "    [88112, \"Einführung in Python3, Bernd Klein\", 3, 24.99]\n",
        "]\n",
        "result = list(map(lambda order: (order[0], (order[2] * order[3]) + (10 if (order[2] * order[3]) < 100 else 0)), orders))\n",
        "\n",
        "print(result)"
      ],
      "metadata": {
        "colab": {
          "base_uri": "https://localhost:8080/"
        },
        "id": "wLh3w9jdrqmV",
        "outputId": "231895eb-f3e1-4a46-bda3-9127426395c9"
      },
      "execution_count": 3,
      "outputs": [
        {
          "output_type": "stream",
          "name": "stdout",
          "text": [
            "[(34587, 163.8), (98762, 170.39999999999998), (77226, 164.75), (88112, 84.97)]\n"
          ]
        }
      ]
    },
    {
      "cell_type": "code",
      "source": [],
      "metadata": {
        "id": "avo4Y_vHsocl"
      },
      "execution_count": null,
      "outputs": []
    }
  ]
}