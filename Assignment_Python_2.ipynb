{
  "nbformat": 4,
  "nbformat_minor": 0,
  "metadata": {
    "colab": {
      "provenance": []
    },
    "kernelspec": {
      "name": "python3",
      "display_name": "Python 3"
    },
    "language_info": {
      "name": "python"
    }
  },
  "cells": [
    {
      "cell_type": "markdown",
      "source": [
        "1.What are data structures, and why are they important?\n",
        " - Data structure is a way of organizing, storing, and managing data.\n",
        "   - Efficiency\n",
        "   - Organized data managemant\n",
        "   - Reusability\n",
        "   - Scalability\n",
        "   - Problem solving\n",
        "    \n",
        "2.Explain the difference between mutable and immutable data types with examples\n",
        " - Mutable type\n",
        "   - object whose value can be change after they are created.\n",
        "   - you can modify.\n",
        "   "
      ],
      "metadata": {
        "id": "jVWDqChe7cnz"
      }
    },
    {
      "cell_type": "code",
      "source": [
        "num = [1,2,3]\n",
        "num[0] = 10\n",
        "num.append(4)\n",
        "print(num)"
      ],
      "metadata": {
        "colab": {
          "base_uri": "https://localhost:8080/"
        },
        "id": "4C-GibQ7-mzO",
        "outputId": "17e3a1ee-cc0b-4ded-af5c-da36a965c19b"
      },
      "execution_count": null,
      "outputs": [
        {
          "output_type": "stream",
          "name": "stdout",
          "text": [
            "[10, 2, 3, 4]\n"
          ]
        }
      ]
    },
    {
      "cell_type": "markdown",
      "source": [
        " - Immutable type\n",
        "  - object whose value cannot be change after thay are created.\n",
        "  - you cannot modify, New object created."
      ],
      "metadata": {
        "id": "xxsQEw8m_g7n"
      }
    },
    {
      "cell_type": "code",
      "source": [
        "num = (1,2,3)\n",
        "print(num)"
      ],
      "metadata": {
        "colab": {
          "base_uri": "https://localhost:8080/"
        },
        "id": "6FG09eILAYBB",
        "outputId": "e866ead2-ca5b-42c6-e3f8-0a20b2f7c95f"
      },
      "execution_count": null,
      "outputs": [
        {
          "output_type": "stream",
          "name": "stdout",
          "text": [
            "(1, 2, 3)\n"
          ]
        }
      ]
    },
    {
      "cell_type": "markdown",
      "source": [
        "3.What are the main differences between lists and tuples in Python?\n",
        " - List is mutable value of list can changeble.\n",
        " - Tuple is unmutable it cannot be changeble.\n",
        "\n",
        "4.Describe how dictionaries store data?\n",
        " - Dictionaries in Python store data in a hash table using key–value pairs, which makes searching, inserting, and deleting data very fast and efficient.\n",
        "\n",
        "5.Why might you use a set instead of a list in Python?\n",
        " - use set when need unique elements, fast membership tests, or set operations.\n",
        " - use list when need ordered data, duplicates, or index-based access.\n",
        "\n",
        "6.What is a string in Python, and how is it different from a list?\n",
        " - string in Python is a sequence of characters enclosed in single, double, or triple quotes.\n",
        "  - String: Stores characters (text).\n",
        "  - List: Stores a collection of any type (numbers, strings, even other lists).\n",
        "\n",
        "7.How do tuples ensure data integrity in Python?\n",
        " - Tuples are like a sealed container once packed, no one can alter the contents, which guarantees the data stays exactly as intended.\n",
        "\n",
        "8.What is a hash table, and how does it relate to dictionaries in Python?\n",
        " - A hash table is a data structure that stores data in key–value pairs and allows very fast lookups, insertions, and deletions.\n",
        "  - A dictionary (dict) is implemented using a hash table.\n",
        "  - Keys are hashed, and their values are stored in slots determined by the hash.\n",
        "\n",
        "9.Can lists contain different data types in Python?\n",
        " - Yes, lists can contain different data types in Python, Python has dynamic typing and object model.\n",
        "\n",
        "10.Explain why strings are immutable in Python?\n",
        " - Strings in Python are immutable because it:\n",
        "   - Saves memory (interning).\n",
        "   - Makes them usable as dictionary keys.\n",
        "   - Ensures safety (no accidental changes).\n",
        "   - Provides thread-safety and predictability.\n",
        "\n",
        "11.What advantages do dictionaries offer over lists for certain tasks?\n",
        " -  \n",
        "\n",
        "12.Describe a scenario where using a tuple would be preferable over a list.\n",
        " - Use a tuple over a list when:\n",
        "  - immutable (unchangeable) data.\n",
        "  - it as a dictionary key or set element.\n",
        "  - The data is a fixed collection of items that belong together.\n",
        "  - faster performance and less memory usage.\n",
        "\n",
        "- Tuples are best for fixed, read-only, constant data.\n",
        "\n",
        "13.How do sets handle duplicate values in Python?\n",
        " - Sets do not allow duplicates.\n",
        " - Duplicates are removed automatically when creating or updating a set.\n",
        " - This makes sets useful for tasks like:\n",
        "   - Removing duplicates from a list.\n",
        "   - Checking membership efficiently.\n",
        "\n",
        "14.How does the “in” keyword work differently for lists and dictionaries?\n",
        " - 'in' with Lists\n",
        "  - Checks whether a value is present in the list.\n",
        "  - It scans elements one by one until it finds a match.\n",
        "\n",
        " - 'in' with Dictionaries\n",
        "  - By default, in checks for the presence of a key.\n",
        "  - Checking is fast because dictionaries use hash tables.\n",
        "\n",
        "15.Can you modify the elements of a tuple? Explain why or why not.\n",
        "  - No, cannot modify the elements of a tuple directly because tuples are immutable in Python.\n",
        "   - Data integrity → Tuples are meant to store fixed collections of items that should not be altered.\n",
        "   - Hashability → Since tuples can’t change, they can be used as dictionary keys or set elements, unlike lists.\n",
        "   - Performance → Tuples are faster and more memory-efficient than lists because Python can optimize their storage knowing they won’t change.\n",
        "\n",
        "16.What is a nested dictionary, and give an example of its use case?\n",
        " - A nested dictionary is a dictionary inside another dictionary.\n",
        "   - The outer dictionary stores keys, and its values can themselves be dictionaries.\n",
        "   - This allows storing hierarchical (multi-level) data in a structured way.\n",
        "\n"
      ],
      "metadata": {
        "id": "IXfJ9HudAtnV"
      }
    },
    {
      "cell_type": "code",
      "source": [
        "company = {\n",
        "    \"HR\": {\"Manager\": \"Alice\", \"Employees\": 5},\n",
        "    \"IT\": {\"Manager\": \"Bob\", \"Employees\": 10},\n",
        "    \"Sales\": {\"Manager\": \"Charlie\", \"Employees\": 7}\n",
        "}\n",
        "\n",
        "print(company[\"IT\"][\"Manager\"])"
      ],
      "metadata": {
        "colab": {
          "base_uri": "https://localhost:8080/"
        },
        "id": "rDoix4K-AhCK",
        "outputId": "81670b0f-cfaf-431e-c723-084d690cf26f"
      },
      "execution_count": null,
      "outputs": [
        {
          "output_type": "stream",
          "name": "stdout",
          "text": [
            "Bob\n"
          ]
        }
      ]
    },
    {
      "cell_type": "markdown",
      "source": [
        "17.Describe the time complexity of accessing elements in a dictionary.\n",
        " -\n",
        "\n",
        "18.In what situations are lists preferred over dictionaries?\n",
        " - lists when you care about order, duplicates, or index-based access, and dictionaries when you need key–value pairs and fast lookups.\n",
        "\n",
        "19.Why are dictionaries considered unordered, and how does that affect data retrieval.\n",
        " -\n",
        "\n",
        "20.Explain the difference between a list and a dictionary in terms of data retrieval.\n",
        " - List Retrieval\n",
        "  - Access by Index (Position)\n",
        "    - Lists are ordered, so you retrieve items using their numeric index.\n",
        "    - Indexing is O(1) (very fast).\n",
        " - Dictionary Retrieval\n",
        "   - Access by Key\n",
        "    - Dictionaries are designed for key-based lookups, not by position.\n",
        "    - Retrieving a value by key is O(1) on average (very efficient)."
      ],
      "metadata": {
        "id": "O-MkctHimUcF"
      }
    },
    {
      "cell_type": "code",
      "source": [
        "#practical question\n",
        "#1.Write a code to create a string with your name and print it\n",
        "name = \"Tanik\"\n",
        "type(name)"
      ],
      "metadata": {
        "id": "Q0XYavW3mP_h",
        "colab": {
          "base_uri": "https://localhost:8080/"
        },
        "outputId": "06a570bc-95d8-466b-e9ab-608a561e221f"
      },
      "execution_count": null,
      "outputs": [
        {
          "output_type": "execute_result",
          "data": {
            "text/plain": [
              "str"
            ]
          },
          "metadata": {},
          "execution_count": 1
        }
      ]
    },
    {
      "cell_type": "code",
      "source": [
        "#2.Write a code to find the length of the string \"Hello World\"\n",
        "name = \"Hello World\"\n",
        "len(name)"
      ],
      "metadata": {
        "colab": {
          "base_uri": "https://localhost:8080/"
        },
        "id": "YYf8-sG8TjKN",
        "outputId": "3809b2a5-ed1a-4cca-9b30-b8103c9d133c"
      },
      "execution_count": null,
      "outputs": [
        {
          "output_type": "execute_result",
          "data": {
            "text/plain": [
              "11"
            ]
          },
          "metadata": {},
          "execution_count": 2
        }
      ]
    },
    {
      "cell_type": "code",
      "source": [
        "#3.Write a code to slice the first 3 characters from the string \"Python Programming\"\n",
        "name = \"Python Programming\"\n",
        "new_name = name[:3]\n",
        "print(new_name)"
      ],
      "metadata": {
        "colab": {
          "base_uri": "https://localhost:8080/"
        },
        "id": "uWlOPaFoT2m3",
        "outputId": "79d9daa7-c5db-43ee-c9cd-11e9597ea744"
      },
      "execution_count": null,
      "outputs": [
        {
          "output_type": "stream",
          "name": "stdout",
          "text": [
            "Pyt\n"
          ]
        }
      ]
    },
    {
      "cell_type": "code",
      "source": [
        "#4.Write a code to convert the string \"hello\" to uppercase\n",
        "string = \"hello\"\n",
        "uppercase = string.upper()\n",
        "print(uppercase)"
      ],
      "metadata": {
        "colab": {
          "base_uri": "https://localhost:8080/"
        },
        "id": "iIyrQrTaq4Zx",
        "outputId": "4e3bf470-d63c-4545-d644-3d184cc595a7"
      },
      "execution_count": null,
      "outputs": [
        {
          "output_type": "stream",
          "name": "stdout",
          "text": [
            "HELLO\n"
          ]
        }
      ]
    },
    {
      "cell_type": "code",
      "source": [
        "#5.Write a code to replace the word \"apple\" with \"orange\" in the string \"I like apple\"\n",
        "line = \"I like apple\"\n",
        "new_line = line.replace(\"apple\",\"orange\")\n",
        "print(new_line)"
      ],
      "metadata": {
        "colab": {
          "base_uri": "https://localhost:8080/"
        },
        "id": "yhVB5kQSrhym",
        "outputId": "7e37d541-33b9-4a8c-c982-8c2ab8653ea3"
      },
      "execution_count": null,
      "outputs": [
        {
          "output_type": "stream",
          "name": "stdout",
          "text": [
            "I like orange\n"
          ]
        }
      ]
    },
    {
      "cell_type": "code",
      "source": [
        "#6.Write a code to create a list with numbers 1 to 5 and print it\n",
        "num = [1,2,3,4,5]\n",
        "print(num)"
      ],
      "metadata": {
        "colab": {
          "base_uri": "https://localhost:8080/"
        },
        "id": "MB-oR2uLsLyZ",
        "outputId": "42482abb-5dcb-420f-c2cd-22261194f921"
      },
      "execution_count": null,
      "outputs": [
        {
          "output_type": "stream",
          "name": "stdout",
          "text": [
            "[1, 2, 3, 4, 5]\n"
          ]
        }
      ]
    },
    {
      "cell_type": "code",
      "source": [
        "#7.Write a code to append the number 10 to the list [1, 2, 3, 4]\n",
        "num = [1,2,3,4]\n",
        "num.append(10)\n",
        "print(num)"
      ],
      "metadata": {
        "colab": {
          "base_uri": "https://localhost:8080/"
        },
        "id": "AYhoQoXKse8F",
        "outputId": "6f9f36c9-842e-414f-e4f5-3c5835cdc142"
      },
      "execution_count": null,
      "outputs": [
        {
          "output_type": "stream",
          "name": "stdout",
          "text": [
            "[1, 2, 3, 4, 10]\n"
          ]
        }
      ]
    },
    {
      "cell_type": "code",
      "source": [
        "#8.Write a code to remove the number 3 from the list [1, 2, 3, 4, 5]\n",
        "list = [1, 2, 3, 4, 5]\n",
        "list.remove(3)\n",
        "print(list)"
      ],
      "metadata": {
        "colab": {
          "base_uri": "https://localhost:8080/"
        },
        "id": "hdcE0YF4s4_E",
        "outputId": "565f4c1e-da9b-4cda-ab0b-64ad773f69fc"
      },
      "execution_count": null,
      "outputs": [
        {
          "output_type": "stream",
          "name": "stdout",
          "text": [
            "[1, 2, 4, 5]\n"
          ]
        }
      ]
    },
    {
      "cell_type": "code",
      "source": [
        "#9.Write a code to access the second element in the list ['a', 'b', 'c', 'd']\n",
        "list = ['a', 'b', 'c' ,'d']\n",
        "secound = list[1]\n",
        "print(secound)"
      ],
      "metadata": {
        "colab": {
          "base_uri": "https://localhost:8080/"
        },
        "id": "lPRqlfkutith",
        "outputId": "86095a3f-9cf9-4a80-9c7d-654812e4d8fb"
      },
      "execution_count": null,
      "outputs": [
        {
          "output_type": "stream",
          "name": "stdout",
          "text": [
            "b\n"
          ]
        }
      ]
    },
    {
      "cell_type": "code",
      "source": [
        "#10.Write a code to reverse the list [10, 20, 30, 40, 50].\n",
        "list = [10, 20, 30, 40, 50]\n",
        "list.reverse()\n",
        "print(list)"
      ],
      "metadata": {
        "colab": {
          "base_uri": "https://localhost:8080/"
        },
        "id": "tUNmur4PuGVb",
        "outputId": "cc9458f8-d7ec-440e-b510-d014c3cdcb8f"
      },
      "execution_count": null,
      "outputs": [
        {
          "output_type": "stream",
          "name": "stdout",
          "text": [
            "[50, 40, 30, 20, 10]\n"
          ]
        }
      ]
    },
    {
      "cell_type": "code",
      "source": [
        "#11.Write a code to create a tuple with the elements 100, 200, 300 and print it.\n",
        "num = (100, 200, 300)\n",
        "print(num)\n",
        "type(num)"
      ],
      "metadata": {
        "colab": {
          "base_uri": "https://localhost:8080/"
        },
        "id": "FUkmkL03u4aH",
        "outputId": "afbfadb7-3f1b-420c-9770-47074fcdf978"
      },
      "execution_count": null,
      "outputs": [
        {
          "output_type": "stream",
          "name": "stdout",
          "text": [
            "(100, 200, 300)\n"
          ]
        },
        {
          "output_type": "execute_result",
          "data": {
            "text/plain": [
              "tuple"
            ]
          },
          "metadata": {},
          "execution_count": 21
        }
      ]
    },
    {
      "cell_type": "code",
      "source": [
        "#12.Write a code to access the second-to-last element of the tuple ('red', 'green', 'blue', 'yellow').\n",
        "list = ('red', 'green', 'blue', 'yellow')\n",
        "second = list[-2]\n",
        "print(second)"
      ],
      "metadata": {
        "colab": {
          "base_uri": "https://localhost:8080/"
        },
        "id": "1tl5woobvXCO",
        "outputId": "a2c2e515-4cf7-42a1-9a9d-d2f82ad8b26b"
      },
      "execution_count": null,
      "outputs": [
        {
          "output_type": "stream",
          "name": "stdout",
          "text": [
            "blue\n"
          ]
        }
      ]
    },
    {
      "cell_type": "code",
      "source": [
        "#13.Write a code to find the minimum number in the tuple (10, 20, 5, 15).\n",
        "num = (10, 20, 5, 15)\n",
        "minimum = min(num)\n",
        "print(minimum)"
      ],
      "metadata": {
        "colab": {
          "base_uri": "https://localhost:8080/"
        },
        "id": "XViBJva2v6NS",
        "outputId": "95002f5d-8731-4720-c208-e4effb898188"
      },
      "execution_count": null,
      "outputs": [
        {
          "output_type": "stream",
          "name": "stdout",
          "text": [
            "5\n"
          ]
        }
      ]
    },
    {
      "cell_type": "code",
      "source": [
        "#14.Write a code to find the index of the element \"cat\" in the tuple ('dog', 'cat', 'rabbit').\n",
        "animal = ('dog', 'cat', 'rebbit')\n",
        "new = animal.index(\"cat\")\n",
        "print(new)\n"
      ],
      "metadata": {
        "colab": {
          "base_uri": "https://localhost:8080/"
        },
        "id": "tby881wBwnz0",
        "outputId": "817b414d-892d-4f18-e3a7-87ca59a99880"
      },
      "execution_count": null,
      "outputs": [
        {
          "output_type": "stream",
          "name": "stdout",
          "text": [
            "1\n"
          ]
        }
      ]
    },
    {
      "cell_type": "code",
      "source": [
        "#15.Write a code to create a tuple containing three different fruits and check if \"kiwi\" is in it.\n",
        "list = ('mango', 'apple', 'kiwi', 'banana')\n",
        "if 'kiwi' in list:\n",
        "  print('kiwi is in list')\n",
        "else:\n",
        "  print('kiwi is not in list')"
      ],
      "metadata": {
        "id": "C8okq48TxddT",
        "colab": {
          "base_uri": "https://localhost:8080/"
        },
        "outputId": "1f2750f6-b271-4499-ca26-bd99bca1d03d"
      },
      "execution_count": null,
      "outputs": [
        {
          "output_type": "stream",
          "name": "stdout",
          "text": [
            "kiwi is in list\n"
          ]
        }
      ]
    },
    {
      "cell_type": "code",
      "source": [
        "#16.Write a code to create a set with the elements 'a', 'b', 'c' and print it.\n",
        "set = {'a', 'b', 'c'}\n",
        "print(set)"
      ],
      "metadata": {
        "colab": {
          "base_uri": "https://localhost:8080/"
        },
        "id": "OjLwhhh1fuj7",
        "outputId": "414f8f3c-d414-4936-ea77-eed0183c9e6c"
      },
      "execution_count": null,
      "outputs": [
        {
          "output_type": "stream",
          "name": "stdout",
          "text": [
            "{'b', 'a', 'c'}\n"
          ]
        }
      ]
    },
    {
      "cell_type": "code",
      "source": [
        "#17.Write a code to clear all elements from the set {1, 2, 3, 4, 5}.\n",
        "set = {1, 2, 3, 4, 5}\n",
        "set.clear()\n",
        "print(set)"
      ],
      "metadata": {
        "colab": {
          "base_uri": "https://localhost:8080/"
        },
        "id": "i3H3LCR-hJAL",
        "outputId": "a507a17a-d4d1-48c5-a8a4-b42856ef15f9"
      },
      "execution_count": null,
      "outputs": [
        {
          "output_type": "stream",
          "name": "stdout",
          "text": [
            "set()\n"
          ]
        }
      ]
    },
    {
      "cell_type": "code",
      "source": [
        "#18.Write a code to remove the element 4 from the set {1, 2, 3, 4}.\n",
        "set = {1, 2, 3, 4}\n",
        "set.remove(4)\n",
        "print(set)"
      ],
      "metadata": {
        "colab": {
          "base_uri": "https://localhost:8080/"
        },
        "id": "nN6lhZlhhlQ0",
        "outputId": "7f5ee7c0-bf76-49d3-99b5-eaee80cd8984"
      },
      "execution_count": null,
      "outputs": [
        {
          "output_type": "stream",
          "name": "stdout",
          "text": [
            "{1, 2, 3}\n"
          ]
        }
      ]
    },
    {
      "cell_type": "code",
      "source": [
        "#19.Write a code to find the union of two sets {1, 2, 3} and {3, 4, 5}.\n",
        "set1 = {1, 2, 3}\n",
        "set2 = {3, 4, 5}\n",
        "set3 = set1.union(set2)\n",
        "print(set3)"
      ],
      "metadata": {
        "colab": {
          "base_uri": "https://localhost:8080/"
        },
        "id": "pZGp1LadiRj8",
        "outputId": "56624f70-7aa3-4add-cb8a-793e3484d215"
      },
      "execution_count": null,
      "outputs": [
        {
          "output_type": "stream",
          "name": "stdout",
          "text": [
            "{1, 2, 3, 4, 5}\n"
          ]
        }
      ]
    },
    {
      "cell_type": "code",
      "source": [
        "#20.Write a code to find the intersection of two sets {1, 2, 3} and {2, 3, 4}.\n",
        "set1 = {1, 2, 3}\n",
        "set2 = {2, 3, 4}\n",
        "print(set1 & set2)"
      ],
      "metadata": {
        "colab": {
          "base_uri": "https://localhost:8080/"
        },
        "id": "k8n9xR86jPJK",
        "outputId": "67e9808e-a1e2-43fb-abb6-469d9efcb21a"
      },
      "execution_count": null,
      "outputs": [
        {
          "output_type": "stream",
          "name": "stdout",
          "text": [
            "{2, 3}\n"
          ]
        }
      ]
    },
    {
      "cell_type": "code",
      "source": [
        "#21.Write a code to create a dictionary with the keys \"name\", \"age\", and \"city\", and print it.\n",
        "details = {\n",
        "    \"name\": \"tanik\",\n",
        "    \"age\": \"23\",\n",
        "    \"city\": \"umbergaon\"\n",
        "}\n",
        "print(details)"
      ],
      "metadata": {
        "colab": {
          "base_uri": "https://localhost:8080/"
        },
        "id": "UxoU0BLmj-IT",
        "outputId": "79a60668-87c2-4ef4-e6a1-5833ef3484de"
      },
      "execution_count": null,
      "outputs": [
        {
          "output_type": "stream",
          "name": "stdout",
          "text": [
            "{'name': 'tanik', 'age': '23', 'city': 'umbergaon'}\n"
          ]
        }
      ]
    },
    {
      "cell_type": "code",
      "source": [
        "#22.Write a code to add a new key-value pair \"country\": \"USA\" to the dictionary {'name': 'John', 'age': 25}.\n",
        "details = {\"name\": \"john\",\"age\": \"25\"}\n",
        "details[\"country\"] = \"USA\"\n",
        "print(details)"
      ],
      "metadata": {
        "colab": {
          "base_uri": "https://localhost:8080/"
        },
        "id": "zsMc7FTIk1UC",
        "outputId": "d3ad1e1d-5c2f-4be7-d5f7-d6e2c9253488"
      },
      "execution_count": null,
      "outputs": [
        {
          "output_type": "stream",
          "name": "stdout",
          "text": [
            "{'name': 'john', 'age': '25', 'country': 'USA'}\n"
          ]
        }
      ]
    },
    {
      "cell_type": "code",
      "source": [
        "#23.Write a code to access the value associated with the key \"name\" in the dictionary {'name': 'Alice', 'age': 30}.\n",
        "details = {\"name\": \"alice\",\"age\": \"30\"}\n",
        "print(details[\"name\"])"
      ],
      "metadata": {
        "colab": {
          "base_uri": "https://localhost:8080/"
        },
        "id": "YZfZeNP7l1dF",
        "outputId": "821f2d46-a94d-442a-b4f9-d2e8ea384ecb"
      },
      "execution_count": null,
      "outputs": [
        {
          "output_type": "stream",
          "name": "stdout",
          "text": [
            "alice\n"
          ]
        }
      ]
    },
    {
      "cell_type": "code",
      "source": [
        "#24.Write a code to remove the key \"age\" from the dictionary {'name': 'Bob', 'age': 22, 'city': 'New York'}.\n",
        "details = {\"name\": \"Bob\", \"age\": \"22\", \"city\": \"New York\"}\n",
        "del details[\"age\"]\n",
        "print(details)"
      ],
      "metadata": {
        "colab": {
          "base_uri": "https://localhost:8080/"
        },
        "id": "ANV0p5QkmcXD",
        "outputId": "43cfd767-1437-4214-f1be-021ec6d3adfc"
      },
      "execution_count": null,
      "outputs": [
        {
          "output_type": "stream",
          "name": "stdout",
          "text": [
            "{'name': 'Bob', 'city': 'New York'}\n"
          ]
        }
      ]
    },
    {
      "cell_type": "code",
      "source": [
        "#25.Write a code to check if the key \"city\" exists in the dictionary {'name': 'Alice', 'city': 'Paris'}.\n",
        "details = {'name': 'Alice', 'city': 'Pairs'}\n",
        "if \"city\" in details:\n",
        "  print(\"'city' is in list\")\n",
        "else:\n",
        "  print(\"'city' is not in list\")\n"
      ],
      "metadata": {
        "colab": {
          "base_uri": "https://localhost:8080/"
        },
        "id": "fBGlojKSnJgm",
        "outputId": "c877a8f3-e2a3-4639-f544-184c43c6003c"
      },
      "execution_count": null,
      "outputs": [
        {
          "output_type": "stream",
          "name": "stdout",
          "text": [
            "'city' is in list\n"
          ]
        }
      ]
    },
    {
      "cell_type": "code",
      "source": [
        "#26.Write a code to create a list, a tuple, and a dictionary, and print them all.\n",
        "list = [1, 2, 3, 4, 5]\n",
        "tuple = ('apple', 'banana', 'kiwi',)\n",
        "dictionary = {'name': 'Alice', 'city': 'Paris', 'age': '25'}\n",
        "print(\"list:\", list, \"tuple:\", tuple, \"dictionary:\", dictionary)"
      ],
      "metadata": {
        "id": "49dRkaZDovSK",
        "colab": {
          "base_uri": "https://localhost:8080/"
        },
        "outputId": "9717f643-0a7f-407c-fce3-3423c3be45b7"
      },
      "execution_count": null,
      "outputs": [
        {
          "output_type": "stream",
          "name": "stdout",
          "text": [
            "list: [1, 2, 3, 4, 5] tuple: ('apple', 'banana', 'kiwi') dictionary: {'name': 'Alice', 'city': 'Paris', 'age': '25'}\n"
          ]
        }
      ]
    },
    {
      "cell_type": "code",
      "source": [
        "#27.Write a code to create a list of 5 random numbers between 1 and 100, sort it in ascending order, and print the result.(replace).\n",
        "import random\n",
        "numbers = [random.randint(1, 100) for _ in range(5)]\n",
        "numbers.sort()\n",
        "print(\"sorted list:\", numbers)"
      ],
      "metadata": {
        "colab": {
          "base_uri": "https://localhost:8080/"
        },
        "id": "tirbA2kwQOIg",
        "outputId": "45d09e69-3db9-4334-c92d-04a6d222c4e6"
      },
      "execution_count": 1,
      "outputs": [
        {
          "output_type": "stream",
          "name": "stdout",
          "text": [
            "sorted list: [10, 35, 36, 42, 53]\n"
          ]
        }
      ]
    },
    {
      "cell_type": "code",
      "source": [
        "#28.Write a code to create a list with strings and print the element at the third index.\n",
        "fruits = [\"apple\", \"banana\", \"cherry\", \"mango\", \"orange\"]\n",
        "print(\"Element at third index:\", fruits[3])"
      ],
      "metadata": {
        "id": "lmCKYfb2SgYC",
        "colab": {
          "base_uri": "https://localhost:8080/"
        },
        "outputId": "a53395b9-92dc-4baa-eeb8-2b9fe0f56852"
      },
      "execution_count": 2,
      "outputs": [
        {
          "output_type": "stream",
          "name": "stdout",
          "text": [
            "Element at third index: mango\n"
          ]
        }
      ]
    },
    {
      "cell_type": "code",
      "source": [
        "#29.Write a code to combine two dictionaries into one and print the result.\n",
        "dict1 = {\"name\": \"Alice\", \"age\": 25}\n",
        "dict2 = {\"city\": \"Paris\", \"country\": \"France\"}\n",
        "combined = {**dict1, **dict2}\n",
        "print(\"Combined dictionary:\", combined)"
      ],
      "metadata": {
        "colab": {
          "base_uri": "https://localhost:8080/"
        },
        "id": "_4rsmdYfYAbu",
        "outputId": "94a7c4b6-5cc9-4eb1-8ba3-be9c26d114b8"
      },
      "execution_count": 3,
      "outputs": [
        {
          "output_type": "stream",
          "name": "stdout",
          "text": [
            "Combined dictionary: {'name': 'Alice', 'age': 25, 'city': 'Paris', 'country': 'France'}\n"
          ]
        }
      ]
    },
    {
      "cell_type": "code",
      "source": [
        "#30.Write a code to convert a list of strings into a set.\n",
        "ruits = [\"apple\", \"banana\", \"cherry\", \"apple\", \"mango\"]\n",
        "fruits_set = set(fruits)\n",
        "print(\"Set:\", fruits_set)"
      ],
      "metadata": {
        "colab": {
          "base_uri": "https://localhost:8080/"
        },
        "id": "l9K7aJ2xYStL",
        "outputId": "d603fbb6-cd4e-4ce2-af0c-475cf6316970"
      },
      "execution_count": 4,
      "outputs": [
        {
          "output_type": "stream",
          "name": "stdout",
          "text": [
            "Set: {'banana', 'apple', 'cherry', 'orange', 'mango'}\n"
          ]
        }
      ]
    },
    {
      "cell_type": "code",
      "source": [],
      "metadata": {
        "id": "OvnvayBTYmI3"
      },
      "execution_count": null,
      "outputs": []
    }
  ]
}